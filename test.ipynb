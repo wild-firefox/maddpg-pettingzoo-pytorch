{
 "cells": [
  {
   "cell_type": "code",
   "execution_count": 12,
   "metadata": {},
   "outputs": [
    {
     "name": "stdout",
     "output_type": "stream",
     "text": [
      "observations: {'adversary_0': array([-0.32956174, -1.108241  , -0.7522789 ,  0.12979814, -0.35218278,\n",
      "       -1.3779373 , -0.8661719 , -1.4783411 ], dtype=float32), 'agent_0': array([-0.40009615,  1.5077355 ,  0.02262103,  0.26969635, -0.40009615,\n",
      "        1.5077355 ,  0.35218278,  1.3779373 , -0.51398915, -0.10040382],\n",
      "      dtype=float32), 'agent_1': array([0.11389301, 1.6081393 , 0.5366102 , 0.37010017, 0.11389301,\n",
      "       1.6081393 , 0.8661719 , 1.4783411 , 0.51398915, 0.10040382],\n",
      "      dtype=float32)}\n",
      "infos: {'adversary_0': {}, 'agent_0': {}, 'agent_1': {}}\n",
      "agents: ['adversary_0', 'agent_0', 'agent_1']\n",
      "action: {'adversary_0': 4, 'agent_0': 2, 'agent_1': 1}\n",
      "observations: {'adversary_0': array([-0.32956174, -1.108241  , -0.7522789 ,  0.12979814, -0.35218278,\n",
      "       -1.3779373 , -0.8661719 , -1.4783411 ], dtype=float32), 'agent_0': array([-0.40009615,  1.5077355 ,  0.02262103,  0.26969635, -0.40009615,\n",
      "        1.5077355 ,  0.35218278,  1.3779373 , -0.51398915, -0.10040382],\n",
      "      dtype=float32), 'agent_1': array([0.11389301, 1.6081393 , 0.5366102 , 0.37010017, 0.11389301,\n",
      "       1.6081393 , 0.8661719 , 1.4783411 , 0.51398915, 0.10040382],\n",
      "      dtype=float32)}\n",
      "rewards: defaultdict(<class 'int'>, {'adversary_0': -0.7633944726975814, 'agent_0': -0.796523208122647, 'agent_1': -0.796523208122647})\n",
      "terminations: {'adversary_0': False, 'agent_0': False, 'agent_1': False}\n",
      "truncations: {'adversary_0': False, 'agent_0': False, 'agent_1': False}\n",
      "infos: {'adversary_0': {}, 'agent_0': {}, 'agent_1': {}}\n",
      "state_dim: 10\n",
      "action_dim: 5\n",
      "max_num_agents: 3\n",
      "n_agents: 3\n"
     ]
    }
   ],
   "source": [
    "from pettingzoo.mpe import simple_adversary_v3\n",
    "\n",
    "env = simple_adversary_v3.parallel_env(render_mode=\"human\")\n",
    "observations, infos = env.reset()\n",
    "print('observations:',observations)\n",
    "print('infos:',infos)\n",
    "print('agents:',env.agents)\n",
    "action = {agent: env.action_space(agent).sample() for agent in env.agents}\n",
    "print('action:',action)\n",
    "observations, rewards, terminations, truncations, infos = env.step(action)\n",
    "print('observations:',observations)\n",
    "print('rewards:',rewards)\n",
    "print('terminations:',terminations)\n",
    "print('truncations:',truncations)\n",
    "print('infos:',infos)\n",
    "env.close()\n",
    "print('state_dim:',env.observation_space('agent_0').shape[0])\n",
    "print('action_dim:',env.action_space('agent_0').n)   #env.action_spaces['agent_0'].n) 是个字典\n",
    "print('max_num_agents:',env.max_num_agents)\n",
    "print('n_agents:',env.num_agents)"
   ]
  },
  {
   "cell_type": "code",
   "execution_count": 20,
   "metadata": {},
   "outputs": [
    {
     "name": "stdout",
     "output_type": "stream",
     "text": [
      "{'adversary_0': 1, 'agent_0': 0, 'agent_1': 1}\n"
     ]
    }
   ],
   "source": [
    "from MADDPG import MADDPG\n",
    "import torch\n",
    "from pettingzoo.mpe import simple_adversary_v3, simple_spread_v3, simple_tag_v3\n",
    "def get_env(env_name, ep_len=25):\n",
    "    \"\"\"create environment and get observation and action dimension of each agent in this environment\"\"\"\n",
    "    new_env = None\n",
    "    if env_name == 'simple_adversary_v3':\n",
    "        new_env = simple_adversary_v3.parallel_env(max_cycles=ep_len,render_mode='rgb_array')\n",
    "    if env_name == 'simple_spread_v3':\n",
    "        new_env = simple_spread_v3.parallel_env(max_cycles=ep_len)\n",
    "    if env_name == 'simple_tag_v3':\n",
    "        new_env = simple_tag_v3.parallel_env(max_cycles=ep_len)\n",
    "\n",
    "    new_env.reset()\n",
    "    _dim_info = {}\n",
    "    for agent_id in new_env.agents:\n",
    "        _dim_info[agent_id] = []  # [obs_dim, act_dim]\n",
    "        _dim_info[agent_id].append(new_env.observation_space(agent_id).shape[0])\n",
    "        _dim_info[agent_id].append(new_env.action_space(agent_id).n)\n",
    "\n",
    "    return new_env, _dim_info\n",
    "dim_info = get_env('simple_adversary_v3')[1]\n",
    "#dim_info, capacity, batch_size, actor_lr, critic_lr, res_dir)\n",
    "maddpg = MADDPG(dim_info,1,36,0.01,0.01,'test')\n",
    "\n",
    "print(maddpg.select_action(observations))"
   ]
  },
  {
   "cell_type": "code",
   "execution_count": 1,
   "metadata": {},
   "outputs": [
    {
     "name": "stdout",
     "output_type": "stream",
     "text": [
      "defaultdict(<class 'int'>, {'adversary_0': -0.2605955550976603, 'agent_0': -0.8693780243973747, 'agent_1': -0.8693780243973747})\n"
     ]
    }
   ],
   "source": [
    "from collections import defaultdict\n",
    "\n",
    "# 创建一个 defaultdict，默认值类型为 int\n",
    "dd = defaultdict(int)\n",
    "\n",
    "# 向 defaultdict 中添加键值对\n",
    "dd['adversary_0'] = -0.2605955550976603\n",
    "dd['agent_0'] = -0.8693780243973747\n",
    "dd['agent_1'] = -0.8693780243973747\n",
    "\n",
    "# 打印 defaultdict\n",
    "print(dd)\n"
   ]
  },
  {
   "cell_type": "code",
   "execution_count": 9,
   "metadata": {},
   "outputs": [
    {
     "name": "stdout",
     "output_type": "stream",
     "text": [
      "tensor([1.], grad_fn=<AddBackward0>)\n",
      "tensor(1.)\n"
     ]
    }
   ],
   "source": [
    "from Agent import Agent\n",
    "import torch\n",
    "\n",
    "agent = Agent(12,1,36,0.01,0.01)\n",
    "obs = torch.tensor([1,2,3,4,5,6,7,8,9,10,11,12],dtype=torch.float32)\n",
    "print(agent.action(obs))\n",
    "print(agent.target_action(obs))\n"
   ]
  },
  {
   "cell_type": "code",
   "execution_count": 4,
   "metadata": {},
   "outputs": [
    {
     "name": "stdout",
     "output_type": "stream",
     "text": [
      "1.0\n",
      "6.123233995736766e-17\n",
      "-1.0\n",
      "-1.8369701987210297e-16\n",
      "1.0\n",
      "0.0007963267107332633\n"
     ]
    }
   ],
   "source": [
    "import math\n",
    "print(math.cos(0))\n",
    "print(math.cos(math.pi/2))\n",
    "print(math.cos(math.pi))\n",
    "print(math.cos(3*math.pi/2))\n",
    "print(math.cos(2*math.pi))\n",
    "\n",
    "print(math.tanh(0))"
   ]
  },
  {
   "cell_type": "code",
   "execution_count": 8,
   "metadata": {},
   "outputs": [
    {
     "name": "stdout",
     "output_type": "stream",
     "text": [
      "[1.05185142]\n"
     ]
    },
    {
     "data": {
      "text/plain": [
       "array([-0.34829525, -1.38448912])"
      ]
     },
     "execution_count": 8,
     "metadata": {},
     "output_type": "execute_result"
    }
   ],
   "source": [
    "import numpy as np\n",
    "action =1\n",
    "action = action + 0.1* np.random.randn() # np.random.randn(1) 1有增加array维度的作用    \n",
    "print(action)\n"
   ]
  },
  {
   "cell_type": "code",
   "execution_count": 67,
   "metadata": {},
   "outputs": [
    {
     "name": "stdout",
     "output_type": "stream",
     "text": [
      "tensor([-0.7499], grad_fn=<TanhBackward0>)\n"
     ]
    },
    {
     "data": {
      "text/plain": [
       "tensor([-0.0958])"
      ]
     },
     "execution_count": 67,
     "metadata": {},
     "output_type": "execute_result"
    }
   ],
   "source": [
    "import torch\n",
    "import torch.nn as nn\n",
    "import torch.nn.functional as F\n",
    "class PolicyNet(torch.nn.Module):\n",
    "    def __init__(self, state_dim, action_dim, hidden_dim=128,):\n",
    "        super(PolicyNet, self).__init__()\n",
    "        self.fc1 = torch.nn.Linear(state_dim, hidden_dim)\n",
    "        self.fc2 = torch.nn.Linear(hidden_dim, action_dim)\n",
    "        '''\n",
    "        #根据计算增益\n",
    "        gain1 = nn.init.calculate_gain('relu')\n",
    "        gain2 = nn.init.calculate_gain('tanh')\n",
    "        #Xavier均匀分布初始化\n",
    "        torch.nn.init.xavier_uniform_(self.fc1.weight, gain=gain1)\n",
    "        torch.nn.init.xavier_uniform_(self.fc2.weight, gain=gain2)\n",
    "        #初始化参数\n",
    "        #self.fc1.weight.data.normal_(0, 0.1)\n",
    "        self.fc1.bias.data.fill_(0.01)\n",
    "        #self.fc2.weight.data.normal_(0, 0.1)\n",
    "        self.fc2.bias.data.fill_(0.01)\n",
    "\n",
    "        #self.action_bound = action_bound  # action_bound是环境可以接受的动作最大值\n",
    "        '''\n",
    "    def forward(self, x):\n",
    "        x = F.relu(self.fc1(x))\n",
    "        return torch.tanh(self.fc2(x)) # tanh输出范围是(-1,1)，符合动作的范围 还需要后续clip\n",
    "policy = PolicyNet(12,1)\n",
    "obs = torch.tensor([1,2,3,4,5,6,7,8,9,10,11,12],dtype=torch.float32)\n",
    "print(policy(obs))\n",
    "torch.randn(1) "
   ]
  },
  {
   "cell_type": "code",
   "execution_count": 73,
   "metadata": {},
   "outputs": [
    {
     "name": "stdout",
     "output_type": "stream",
     "text": [
      "[0.1]\n",
      "[[1 0 0 0 0 0 0 0 0 0]]\n"
     ]
    }
   ],
   "source": [
    "import numpy as np\n",
    "win_list = [1,0,0,0,0,0,0,0,0,0]\n",
    "win_array = np.mean(np.array(win_list).reshape(-1, 10), axis=1) #axis=1表示按行求均值\n",
    "print(win_array)\n",
    "print(np.array(win_list).reshape(-1, 10))"
   ]
  },
  {
   "cell_type": "code",
   "execution_count": 2,
   "metadata": {},
   "outputs": [
    {
     "name": "stdout",
     "output_type": "stream",
     "text": [
      "False\n"
     ]
    }
   ],
   "source": [
    "done ={'Red-0': False, 'Red-1': False, 'Red-2': False}\n",
    "print(any(done.values()))"
   ]
  },
  {
   "cell_type": "code",
   "execution_count": 3,
   "metadata": {},
   "outputs": [
    {
     "name": "stdout",
     "output_type": "stream",
     "text": [
      "{'rewards': {'Red-0': array([ -4.        ,  -6.64236263,  -6.39353434, ..., 183.4901285 ,\n",
      "       184.23064647, 188.91      ]), 'Red-1': array([128.31      ,  -5.24634945,  -6.43049854, ..., 185.66645085,\n",
      "       194.87857453, 166.50867731]), 'Red-2': array([ -4.        ,  -4.02393492,  -8.36051615, ..., 187.9       ,\n",
      "        14.18      , 187.9       ])}}\n"
     ]
    }
   ],
   "source": [
    "import pickle\n",
    "\n",
    "# 假设你有一个名为 'data.pkl' 的文件\n",
    "with open('results\\\\toy_env\\\\24\\\\rewards.pkl', 'rb') as file:\n",
    "    data = pickle.load(file)\n",
    "\n",
    "# 现在 'data' 变量包含了从 .pkl 文件中恢复的对象\n",
    "print(data)\n"
   ]
  },
  {
   "cell_type": "code",
   "execution_count": 1,
   "metadata": {},
   "outputs": [
    {
     "ename": "TypeError",
     "evalue": "'<=' not supported between instances of 'int' and 'list'",
     "output_type": "error",
     "traceback": [
      "\u001b[1;31m---------------------------------------------------------------------------\u001b[0m",
      "\u001b[1;31mTypeError\u001b[0m                                 Traceback (most recent call last)",
      "Cell \u001b[1;32mIn[1], line 2\u001b[0m\n\u001b[0;32m      1\u001b[0m angle\u001b[38;5;241m=\u001b[39m[\u001b[38;5;241m3.00596919\u001b[39m]\n\u001b[1;32m----> 2\u001b[0m \u001b[38;5;28;01massert\u001b[39;00m \u001b[38;5;241m0\u001b[39m \u001b[38;5;241m<\u001b[39m\u001b[38;5;241m=\u001b[39m angle \u001b[38;5;241m<\u001b[39m\u001b[38;5;241m=\u001b[39m \u001b[38;5;241m2\u001b[39m \u001b[38;5;241m*\u001b[39m math\u001b[38;5;241m.\u001b[39mpi\n\u001b[0;32m      3\u001b[0m \u001b[38;5;28mprint\u001b[39m(angle)\n",
      "\u001b[1;31mTypeError\u001b[0m: '<=' not supported between instances of 'int' and 'list'"
     ]
    }
   ],
   "source": [
    "angle=[3.00596919]\n",
    "assert 0 <= angle <= 2 * math.pi\n",
    "print(angle)"
   ]
  },
  {
   "cell_type": "code",
   "execution_count": 7,
   "metadata": {},
   "outputs": [
    {
     "name": "stdout",
     "output_type": "stream",
     "text": [
      "0.0\n"
     ]
    }
   ],
   "source": [
    "import numpy as np\n",
    "red0_hp_l = [0]\n",
    "print(np.mean(red0_hp_l))"
   ]
  },
  {
   "cell_type": "code",
   "execution_count": 1,
   "metadata": {},
   "outputs": [
    {
     "data": {
      "text/plain": [
       "0.001"
      ]
     },
     "execution_count": 1,
     "metadata": {},
     "output_type": "execute_result"
    }
   ],
   "source": [
    "1e-3"
   ]
  },
  {
   "cell_type": "code",
   "execution_count": 1,
   "metadata": {},
   "outputs": [
    {
     "data": {
      "text/plain": [
       "1"
      ]
     },
     "execution_count": 1,
     "metadata": {},
     "output_type": "execute_result"
    }
   ],
   "source": [
    "4 // 4\n"
   ]
  },
  {
   "cell_type": "code",
   "execution_count": 2,
   "metadata": {},
   "outputs": [
    {
     "name": "stdout",
     "output_type": "stream",
     "text": [
      "39\n"
     ]
    }
   ],
   "source": [
    "from myMADDPG import MADDPG\n",
    "from toy_env import ToyEnv\n",
    "\n",
    "def get_env(env_name):\n",
    "    \"\"\"create environment and get observation and action dimension of each agent in this environment\"\"\"\n",
    "    new_env = None\n",
    "    if env_name == 'toy_env':\n",
    "        new_env = ToyEnv()\n",
    "\n",
    "\n",
    "    new_env.reset()\n",
    "    _dim_info = {}\n",
    "    for agent_id in new_env.agents:\n",
    "        _dim_info[agent_id] = []  # [obs_dim, act_dim]\n",
    "        _dim_info[agent_id].append(new_env.observation_space(agent_id).shape[0])\n",
    "        _dim_info[agent_id].append(new_env.action_space(agent_id).shape[0])\n",
    "\n",
    "    return new_env, _dim_info\n",
    "dim_info = get_env('toy_env')[1]\n",
    "\n",
    "\n",
    "global_obs_act_dim = sum(sum(val) for val in dim_info.values())\n",
    "print(global_obs_act_dim) #13 *3"
   ]
  },
  {
   "cell_type": "code",
   "execution_count": 3,
   "metadata": {},
   "outputs": [
    {
     "name": "stdout",
     "output_type": "stream",
     "text": [
      "输入张量形状: torch.Size([2, 1, 13])\n",
      "输出张量形状: torch.Size([2, 1, 5])\n"
     ]
    }
   ],
   "source": [
    "import torch\n",
    "import torch.nn as nn\n",
    "\n",
    "# 假设 batch_size = 2, attention_dim = 5\n",
    "batch_size = 2\n",
    "attention_dim = 5\n",
    "\n",
    "# 创建一个形状为 (2, 1, 13) 的输入张量\n",
    "input_tensor = torch.randn(batch_size, 1, 13)\n",
    "\n",
    "# 定义线性层\n",
    "embedding = nn.Linear(13, attention_dim)\n",
    "\n",
    "# 通过线性层\n",
    "output_tensor = embedding(input_tensor)\n",
    "\n",
    "print(\"输入张量形状:\", input_tensor.shape)\n",
    "print(\"输出张量形状:\", output_tensor.shape)\n"
   ]
  },
  {
   "cell_type": "code",
   "execution_count": 5,
   "metadata": {},
   "outputs": [
    {
     "name": "stdout",
     "output_type": "stream",
     "text": [
      "原始张量形状: torch.Size([2, 3])\n",
      "调整后张量形状: torch.Size([2, 1, 3])\n"
     ]
    }
   ],
   "source": [
    "import torch\n",
    "\n",
    "# 创建一个形状为 (2, 3) 的张量\n",
    "tensor = torch.randn(2, 3)\n",
    "\n",
    "# 使用 view 函数将其形状调整为 (3, 2)\n",
    "reshaped_tensor = tensor.view(tensor.shape[0],1, -1)\n",
    "\n",
    "print(\"原始张量形状:\", tensor.shape)\n",
    "print(\"调整后张量形状:\", reshaped_tensor.shape)\n"
   ]
  },
  {
   "cell_type": "code",
   "execution_count": 8,
   "metadata": {},
   "outputs": [
    {
     "name": "stdout",
     "output_type": "stream",
     "text": [
      "tensor1 形状: torch.Size([2, 1, 13])\n",
      "stacked_tensor 形状: torch.Size([3, 2, 1, 13])\n",
      "squeeze_tensor 形状: torch.Size([3, 2, 13])\n"
     ]
    }
   ],
   "source": [
    "import torch\n",
    "\n",
    "# 创建三个形状为 (2, 3) 的张量\n",
    "tensor1 = torch.randn(2, 1 ,13)\n",
    "tensor2 = torch.randn(2, 1 ,13)\n",
    "tensor3 = torch.randn(2, 1 ,13)\n",
    "\n",
    "# 使用 torch.stack 将它们沿着新维度堆叠\n",
    "stacked_tensor = torch.stack([tensor1, tensor2, tensor3])\n",
    "\n",
    "print(\"tensor1 形状:\", tensor1.shape)\n",
    "print(\"stacked_tensor 形状:\", stacked_tensor.shape)\n",
    "\n",
    "squeeze_tensor = torch.squeeze(stacked_tensor,)\n",
    "print(\"squeeze_tensor 形状:\", squeeze_tensor.shape)\n"
   ]
  },
  {
   "cell_type": "code",
   "execution_count": 20,
   "metadata": {},
   "outputs": [
    {
     "name": "stdout",
     "output_type": "stream",
     "text": [
      "tensor([-0.3066])\n",
      "torch.Size([1, 1])\n",
      "torch.Size([1, 1, 1])\n",
      "torch.Size([1, 1, 1])\n",
      "tensor([1.4721])\n",
      "torch.Size([1, 1])\n",
      "torch.Size([1, 1, 1])\n",
      "torch.Size([1, 1, 1])\n"
     ]
    }
   ],
   "source": [
    "import torch\n",
    "tensor1 = torch.randn(1)  ##离散值的情况\n",
    "print(tensor1)\n",
    "un = torch.unsqueeze(tensor1, 0)\n",
    "print(un.shape)\n",
    "un = torch.unsqueeze(un, 0)\n",
    "print(un.shape)\n",
    "un = un.permute(2,1,0)\n",
    "print(un.shape)\n",
    "# 连续值的情况\n",
    "tensor1 = torch.randn([1])\n",
    "print(tensor1)\n",
    "un = torch.unsqueeze(tensor1, 0)\n",
    "print(un.shape)\n",
    "un = torch.unsqueeze(un, 0)\n",
    "print(un.shape)\n",
    "un = un.permute(2,1,0)\n",
    "print(un.shape)"
   ]
  },
  {
   "cell_type": "code",
   "execution_count": 23,
   "metadata": {},
   "outputs": [
    {
     "name": "stdout",
     "output_type": "stream",
     "text": [
      "tensor([-2.0882])\n",
      "原始张量形状: torch.Size([1])\n",
      "移除维度后张量形状: torch.Size([])\n",
      "tensor(-2.0882)\n"
     ]
    }
   ],
   "source": [
    "import torch\n",
    "\n",
    "# 创建一个形状为 (1, 2, 3) 的张量\n",
    "tensor = torch.randn(1)\n",
    "print(tensor)\n",
    "print(\"原始张量形状:\", tensor.shape)\n",
    "\n",
    "# 使用 .squeeze(0) 移除第 0 维大小为 1 的维度\n",
    "squeezed_tensor = tensor.squeeze(0)\n",
    "\n",
    "print(\"移除维度后张量形状:\", squeezed_tensor.shape)\n",
    "print(squeezed_tensor)\n"
   ]
  },
  {
   "cell_type": "code",
   "execution_count": 36,
   "metadata": {},
   "outputs": [
    {
     "name": "stdout",
     "output_type": "stream",
     "text": [
      "X 的形状: torch.Size([4, 30])\n",
      "提取的列的形状: torch.Size([4])\n",
      "tensor([0.1209, 0.1242, 0.2950, 0.1127])\n"
     ]
    }
   ],
   "source": [
    "import torch\n",
    "\n",
    "# 创建一个形状为 (4, 30) 的张量\n",
    "X = torch.randn(4, 30)\n",
    "#print(X)\n",
    "# 提取第 22 列的所有行\n",
    "agent_i_index = 2\n",
    "extracted_column = X[:, 20 + agent_i_index]\n",
    "\n",
    "print(\"X 的形状:\", X.shape)\n",
    "print(\"提取的列的形状:\", extracted_column.shape)\n",
    "print(extracted_column)\n"
   ]
  },
  {
   "cell_type": "code",
   "execution_count": 39,
   "metadata": {},
   "outputs": [
    {
     "name": "stdout",
     "output_type": "stream",
     "text": [
      "(4, 1)\n",
      "[[0.]\n",
      " [0.]\n",
      " [0.]\n",
      " [0.]]\n",
      "[[1.]\n",
      " [0.]\n",
      " [0.]\n",
      " [0.]] (4, 1)\n",
      "tensor([[1.],\n",
      "        [0.],\n",
      "        [0.],\n",
      "        [0.]])\n",
      "tensor([1., 0., 0., 0.])\n"
     ]
    }
   ],
   "source": [
    "import torch\n",
    "import torch.nn as nn\n",
    "import numpy as np\n",
    "c = np.zeros((4, 1))\n",
    "print(c.shape)\n",
    "print(c)\n",
    "c[0] = [1]  ####！！！ 神奇 这里将c[0]赋值为[1]，c[0]的shape还是(1,)，而不是(1,1)\n",
    "print(c,c.shape)\n",
    "c = torch.from_numpy(c).float()\n",
    "print(c)\n",
    "print(c[:,0] )"
   ]
  },
  {
   "cell_type": "code",
   "execution_count": 4,
   "metadata": {},
   "outputs": [
    {
     "name": "stdout",
     "output_type": "stream",
     "text": [
      "sd1_2\n"
     ]
    }
   ],
   "source": [
    "policy_number = 1\n",
    "episode = 2\n",
    "name = str(policy_number) + '_' +str(episode) \n",
    "print(f'sd{name}')"
   ]
  },
  {
   "cell_type": "code",
   "execution_count": 9,
   "metadata": {},
   "outputs": [
    {
     "name": "stdout",
     "output_type": "stream",
     "text": [
      "tensor([ 0.0198, -1.2264, -1.5745])\n",
      "tensor(-2.7811)\n",
      "tensor([[[-1.3292, -0.1305,  1.6532, -2.9865],\n",
      "         [-1.1395, -0.5254,  0.7216,  1.1371]],\n",
      "\n",
      "        [[ 0.0281,  0.4445, -0.6437,  0.3547],\n",
      "         [-1.0617,  1.2124,  0.3283,  0.0213]]])\n",
      "tensor([[ 0.7903,  0.7261, -0.4777,  1.0467]])\n",
      "torch.Size([2, 2, 4])\n",
      "tensor([[[-1.0504, -0.0948, -0.7897, -3.1261],\n",
      "         [-0.9005, -0.3815, -0.3447,  1.1902]],\n",
      "\n",
      "        [[ 0.0222,  0.3228,  0.3075,  0.3713],\n",
      "         [-0.8390,  0.8803, -0.1568,  0.0223]]])\n"
     ]
    }
   ],
   "source": [
    "import torch\n",
    "\n",
    "a = torch.randn(3)\n",
    "b = torch.randn(3)\n",
    "result = torch.mul(a, b)\n",
    "print(result)\n",
    "r =torch.matmul(a,b)\n",
    "print(r)    \n",
    "\n",
    "b = torch.randn(2,2, 4)\n",
    "print(b)\n",
    "c = torch.randn(1, 4)\n",
    "print(c)\n",
    "result_matrix = torch.mul(b, c)\n",
    "print(result_matrix.shape)\n",
    "print(result_matrix)\n"
   ]
  },
  {
   "cell_type": "code",
   "execution_count": 10,
   "metadata": {},
   "outputs": [
    {
     "name": "stdout",
     "output_type": "stream",
     "text": [
      "dict_values([[1, 2, 3, 4, 5, 6, 7, 8, 9, 10, 11, 12], [1, 2, 3, 4, 5, 6, 7, 8, 9, 10, 11, 12]])\n"
     ]
    }
   ],
   "source": [
    "obs = {'agent_0': [1, 2, 3, 4, 5, 6, 7, 8, 9, 10, 11, 12], 'agent_1': [1, 2, 3, 4, 5, 6, 7, 8, 9, 10, 11, 12]}\n",
    "print(obs.values())"
   ]
  },
  {
   "cell_type": "code",
   "execution_count": 17,
   "metadata": {},
   "outputs": [
    {
     "name": "stdout",
     "output_type": "stream",
     "text": [
      "{'obs1': tensor([[-0.9118,  0.6469,  1.2986],\n",
      "        [-0.9200, -1.1836, -1.1473]]), 'obs2': tensor([[ 1.0404, -0.8691, -0.9483],\n",
      "        [ 0.7368,  2.5489, -0.7975]])}\n",
      "{'act1': tensor([[-0.6497],\n",
      "        [ 1.2791]]), 'act2': tensor([[0.1259],\n",
      "        [0.4822]])}\n",
      "tensor([[-0.9118,  0.6469,  1.2986,  1.0404, -0.8691, -0.9483, -0.6497,  0.1259],\n",
      "        [-0.9200, -1.1836, -1.1473,  0.7368,  2.5489, -0.7975,  1.2791,  0.4822]])\n",
      "拼接后的张量形状: torch.Size([2, 8])\n"
     ]
    }
   ],
   "source": [
    "import torch\n",
    "\n",
    "# 假设 obs 和 act 是两个字典\n",
    "obs = {'obs1': torch.randn( 2,3), 'obs2': torch.randn( 2,3)}\n",
    "act = {'act1': torch.randn( 2,1), 'act2': torch.randn( 2,1)}\n",
    "print(obs)\n",
    "print(act)\n",
    "\n",
    "# 拼接观察值和动作值\n",
    "concatenated = torch.cat(list(obs.values()) + list(act.values()), 1)\n",
    "print(concatenated)\n",
    "\n",
    "print(\"拼接后的张量形状:\", concatenated.shape)\n"
   ]
  },
  {
   "cell_type": "code",
   "execution_count": 27,
   "metadata": {},
   "outputs": [
    {
     "name": "stdout",
     "output_type": "stream",
     "text": [
      "tensor([[ 0.8227, -1.1238,  0.7405, -0.3586, -0.6031,  0.0795, -1.3476, -0.8057,\n",
      "         -1.8946, -0.4297, -0.5290, -1.5330,  0.8859, -0.2434,  0.6919,  1.0493,\n",
      "          2.2404, -0.6753, -0.5856,  0.7311, -0.5163, -0.2467, -1.4401,  0.0722,\n",
      "         -0.5268, -0.7519, -1.6446, -0.8844, -1.2657,  0.1851, -0.7639,  0.0550,\n",
      "          0.8339, -1.4746, -1.2253, -1.2504,  0.3151, -0.0917,  2.2522],\n",
      "        [ 0.6784,  0.5855, -0.1163,  0.7948,  0.4949, -0.3282, -0.5958, -0.2177,\n",
      "         -0.8419,  0.1144, -1.7315, -0.2941,  1.0786, -0.0516, -2.8019, -0.5588,\n",
      "         -0.7500, -0.4759,  0.0139, -0.6794,  0.3855,  0.6779, -0.1982,  0.4127,\n",
      "          1.5652, -0.2581, -0.0434, -2.3590, -1.5473, -0.6892, -0.6620, -0.0309,\n",
      "          2.0777,  1.2134,  2.0234,  0.2865, -0.7880, -1.8601, -1.1366]])\n",
      "torch.Size([2, 37])\n",
      "torch.Size([2, 1])\n"
     ]
    }
   ],
   "source": [
    "x = torch.randn(2, 39)\n",
    "print(x)\n",
    "agent_id_index = 0\n",
    "encoder_input = torch.cat((x[:,:36] , x[:,36+agent_id_index:37+agent_id_index]), 1)\n",
    "\n",
    "decoder_input = torch.cat((x[:,37:37+agent_id_index], x[:,37+agent_id_index+1:39]), 1)\n",
    "print(encoder_input.shape)\n",
    "print(decoder_input.shape)\n",
    " "
   ]
  },
  {
   "cell_type": "code",
   "execution_count": null,
   "metadata": {},
   "outputs": [],
   "source": [
    "for i in range(3):\n",
    "    print(i)"
   ]
  },
  {
   "cell_type": "code",
   "execution_count": 5,
   "metadata": {},
   "outputs": [
    {
     "ename": "UnboundLocalError",
     "evalue": "cannot access local variable 'agent_type' where it is not associated with a value",
     "output_type": "error",
     "traceback": [
      "\u001b[1;31m---------------------------------------------------------------------------\u001b[0m",
      "\u001b[1;31mUnboundLocalError\u001b[0m                         Traceback (most recent call last)",
      "Cell \u001b[1;32mIn[5], line 29\u001b[0m\n\u001b[0;32m     26\u001b[0m     recreated_env \u001b[38;5;241m=\u001b[39m pickle\u001b[38;5;241m.\u001b[39mloads(pickle\u001b[38;5;241m.\u001b[39mdumps(env))\n\u001b[0;32m     27\u001b[0m     test\u001b[38;5;241m.\u001b[39mapi_test(recreated_env)\n\u001b[1;32m---> 29\u001b[0m \u001b[43mtest_env\u001b[49m\u001b[43m(\u001b[49m\u001b[38;5;124;43m'\u001b[39;49m\u001b[38;5;124;43m3m\u001b[39;49m\u001b[38;5;124;43m'\u001b[39;49m\u001b[43m)\u001b[49m\n",
      "Cell \u001b[1;32mIn[5], line 19\u001b[0m, in \u001b[0;36mtest_env\u001b[1;34m(map_name)\u001b[0m\n\u001b[0;32m     17\u001b[0m \u001b[38;5;129m@pytest\u001b[39m\u001b[38;5;241m.\u001b[39mmark\u001b[38;5;241m.\u001b[39mparametrize((\u001b[38;5;124m\"\u001b[39m\u001b[38;5;124mmap_name\u001b[39m\u001b[38;5;124m\"\u001b[39m), map_names)\n\u001b[0;32m     18\u001b[0m \u001b[38;5;28;01mdef\u001b[39;00m \u001b[38;5;21mtest_env\u001b[39m(map_name):\n\u001b[1;32m---> 19\u001b[0m     env \u001b[38;5;241m=\u001b[39m \u001b[43msc2\u001b[49m\u001b[38;5;241;43m.\u001b[39;49m\u001b[43menv\u001b[49m\u001b[43m(\u001b[49m\u001b[43mmap_name\u001b[49m\u001b[38;5;241;43m=\u001b[39;49m\u001b[43mmap_name\u001b[49m\u001b[43m)\u001b[49m\n\u001b[0;32m     20\u001b[0m     test\u001b[38;5;241m.\u001b[39mapi_test(env)\n\u001b[0;32m     21\u001b[0m     \u001b[38;5;66;03m# test.parallel_api_test(sc2_v0.parallel_env()) # does not pass it due to\u001b[39;00m\n\u001b[0;32m     22\u001b[0m     \u001b[38;5;66;03m# illegal actions test.seed_test(sc2.env, 50) # not required, sc2 env only\u001b[39;00m\n\u001b[0;32m     23\u001b[0m     \u001b[38;5;66;03m# allows reseeding at initialization\u001b[39;00m\n",
      "File \u001b[1;32md:\\softwares\\anaconda3\\envs\\myrl\\Lib\\site-packages\\smacv2\\env\\pettingzoo\\StarCraft2PZEnv.py:26\u001b[0m, in \u001b[0;36mmake_env.<locals>.env_fn\u001b[1;34m(**kwargs)\u001b[0m\n\u001b[0;32m     25\u001b[0m \u001b[38;5;28;01mdef\u001b[39;00m \u001b[38;5;21menv_fn\u001b[39m(\u001b[38;5;241m*\u001b[39m\u001b[38;5;241m*\u001b[39mkwargs):\n\u001b[1;32m---> 26\u001b[0m     env \u001b[38;5;241m=\u001b[39m \u001b[43mraw_env\u001b[49m\u001b[43m(\u001b[49m\u001b[38;5;241;43m*\u001b[39;49m\u001b[38;5;241;43m*\u001b[39;49m\u001b[43mkwargs\u001b[49m\u001b[43m)\u001b[49m\n\u001b[0;32m     27\u001b[0m     \u001b[38;5;66;03m# env = wrappers.TerminateIllegalWrapper(env, illegal_reward=-1)\u001b[39;00m\n\u001b[0;32m     28\u001b[0m     env \u001b[38;5;241m=\u001b[39m wrappers\u001b[38;5;241m.\u001b[39mAssertOutOfBoundsWrapper(env)\n",
      "File \u001b[1;32md:\\softwares\\anaconda3\\envs\\myrl\\Lib\\site-packages\\smacv2\\env\\pettingzoo\\StarCraft2PZEnv.py:21\u001b[0m, in \u001b[0;36mraw_env\u001b[1;34m(max_cycles, **smac_args)\u001b[0m\n\u001b[0;32m     20\u001b[0m \u001b[38;5;28;01mdef\u001b[39;00m \u001b[38;5;21mraw_env\u001b[39m(max_cycles\u001b[38;5;241m=\u001b[39mmax_cycles_default, \u001b[38;5;241m*\u001b[39m\u001b[38;5;241m*\u001b[39msmac_args):\n\u001b[1;32m---> 21\u001b[0m     \u001b[38;5;28;01mreturn\u001b[39;00m from_parallel_wrapper(\u001b[43mparallel_env\u001b[49m\u001b[43m(\u001b[49m\u001b[43mmax_cycles\u001b[49m\u001b[43m,\u001b[49m\u001b[43m \u001b[49m\u001b[38;5;241;43m*\u001b[39;49m\u001b[38;5;241;43m*\u001b[39;49m\u001b[43msmac_args\u001b[49m\u001b[43m)\u001b[49m)\n",
      "File \u001b[1;32md:\\softwares\\anaconda3\\envs\\myrl\\Lib\\site-packages\\smacv2\\env\\pettingzoo\\StarCraft2PZEnv.py:17\u001b[0m, in \u001b[0;36mparallel_env\u001b[1;34m(max_cycles, **smac_args)\u001b[0m\n\u001b[0;32m     16\u001b[0m \u001b[38;5;28;01mdef\u001b[39;00m \u001b[38;5;21mparallel_env\u001b[39m(max_cycles\u001b[38;5;241m=\u001b[39mmax_cycles_default, \u001b[38;5;241m*\u001b[39m\u001b[38;5;241m*\u001b[39msmac_args):\n\u001b[1;32m---> 17\u001b[0m     \u001b[38;5;28;01mreturn\u001b[39;00m \u001b[43m_parallel_env\u001b[49m\u001b[43m(\u001b[49m\u001b[43mmax_cycles\u001b[49m\u001b[43m,\u001b[49m\u001b[43m \u001b[49m\u001b[38;5;241;43m*\u001b[39;49m\u001b[38;5;241;43m*\u001b[39;49m\u001b[43msmac_args\u001b[49m\u001b[43m)\u001b[49m\n",
      "File \u001b[1;32md:\\softwares\\anaconda3\\envs\\myrl\\Lib\\site-packages\\smacv2\\env\\pettingzoo\\StarCraft2PZEnv.py:200\u001b[0m, in \u001b[0;36m_parallel_env.__init__\u001b[1;34m(self, max_cycles, **smac_args)\u001b[0m\n\u001b[0;32m    198\u001b[0m EzPickle\u001b[38;5;241m.\u001b[39m\u001b[38;5;21m__init__\u001b[39m(\u001b[38;5;28mself\u001b[39m, max_cycles, \u001b[38;5;241m*\u001b[39m\u001b[38;5;241m*\u001b[39msmac_args)\n\u001b[0;32m    199\u001b[0m env \u001b[38;5;241m=\u001b[39m StarCraft2Env(\u001b[38;5;241m*\u001b[39m\u001b[38;5;241m*\u001b[39msmac_args)\n\u001b[1;32m--> 200\u001b[0m \u001b[38;5;28;43msuper\u001b[39;49m\u001b[43m(\u001b[49m\u001b[43m)\u001b[49m\u001b[38;5;241;43m.\u001b[39;49m\u001b[38;5;21;43m__init__\u001b[39;49m\u001b[43m(\u001b[49m\u001b[43menv\u001b[49m\u001b[43m,\u001b[49m\u001b[43m \u001b[49m\u001b[43mmax_cycles\u001b[49m\u001b[43m)\u001b[49m\n",
      "File \u001b[1;32md:\\softwares\\anaconda3\\envs\\myrl\\Lib\\site-packages\\smacv2\\env\\pettingzoo\\StarCraft2PZEnv.py:41\u001b[0m, in \u001b[0;36msmac_parallel_env.__init__\u001b[1;34m(self, env, max_cycles)\u001b[0m\n\u001b[0;32m     39\u001b[0m \u001b[38;5;28mself\u001b[39m\u001b[38;5;241m.\u001b[39menv\u001b[38;5;241m.\u001b[39mreset()\n\u001b[0;32m     40\u001b[0m \u001b[38;5;28mself\u001b[39m\u001b[38;5;241m.\u001b[39mreset_flag \u001b[38;5;241m=\u001b[39m \u001b[38;5;241m0\u001b[39m\n\u001b[1;32m---> 41\u001b[0m \u001b[38;5;28mself\u001b[39m\u001b[38;5;241m.\u001b[39magents, \u001b[38;5;28mself\u001b[39m\u001b[38;5;241m.\u001b[39maction_spaces \u001b[38;5;241m=\u001b[39m \u001b[38;5;28;43mself\u001b[39;49m\u001b[38;5;241;43m.\u001b[39;49m\u001b[43m_init_agents\u001b[49m\u001b[43m(\u001b[49m\u001b[43m)\u001b[49m\n\u001b[0;32m     42\u001b[0m \u001b[38;5;28mself\u001b[39m\u001b[38;5;241m.\u001b[39mpossible_agents \u001b[38;5;241m=\u001b[39m \u001b[38;5;28mself\u001b[39m\u001b[38;5;241m.\u001b[39magents[:]\n\u001b[0;32m     44\u001b[0m observation_size \u001b[38;5;241m=\u001b[39m env\u001b[38;5;241m.\u001b[39mget_obs_size()\n",
      "File \u001b[1;32md:\\softwares\\anaconda3\\envs\\myrl\\Lib\\site-packages\\smacv2\\env\\pettingzoo\\StarCraft2PZEnv.py:95\u001b[0m, in \u001b[0;36msmac_parallel_env._init_agents\u001b[1;34m(self)\u001b[0m\n\u001b[0;32m     93\u001b[0m     agent_type \u001b[38;5;241m=\u001b[39m \u001b[38;5;124m\"\u001b[39m\u001b[38;5;124mzealot\u001b[39m\u001b[38;5;124m\"\u001b[39m\n\u001b[0;32m     94\u001b[0m \u001b[38;5;28;01melse\u001b[39;00m:\n\u001b[1;32m---> 95\u001b[0m     \u001b[38;5;28;01mraise\u001b[39;00m \u001b[38;5;167;01mAssertionError\u001b[39;00m(\u001b[38;5;124mf\u001b[39m\u001b[38;5;124m\"\u001b[39m\u001b[38;5;124magent type \u001b[39m\u001b[38;5;132;01m{\u001b[39;00m\u001b[43magent_type\u001b[49m\u001b[38;5;132;01m}\u001b[39;00m\u001b[38;5;124m not supported\u001b[39m\u001b[38;5;124m\"\u001b[39m)\n\u001b[0;32m     97\u001b[0m \u001b[38;5;28;01mif\u001b[39;00m agent_type \u001b[38;5;241m==\u001b[39m last_type:\n\u001b[0;32m     98\u001b[0m     i \u001b[38;5;241m+\u001b[39m\u001b[38;5;241m=\u001b[39m \u001b[38;5;241m1\u001b[39m\n",
      "\u001b[1;31mUnboundLocalError\u001b[0m: cannot access local variable 'agent_type' where it is not associated with a value"
     ]
    }
   ],
   "source": [
    "from smacv2.env.starcraft2.maps import smac_maps\n",
    "from pysc2 import maps as pysc2_maps\n",
    "from smacv2.env.pettingzoo import StarCraft2PZEnv as sc2\n",
    "import pytest\n",
    "from pettingzoo import test\n",
    "import pickle\n",
    "\n",
    "smac_map_registry = smac_maps.get_smac_map_registry()\n",
    "all_maps = pysc2_maps.get_maps()\n",
    "map_names = []\n",
    "for map_name in smac_map_registry.keys():\n",
    "    map_class = all_maps[map_name]\n",
    "    if map_class.path:\n",
    "        map_names.append(map_name)\n",
    "\n",
    "\n",
    "@pytest.mark.parametrize((\"map_name\"), map_names)\n",
    "def test_env(map_name):\n",
    "    env = sc2.env(map_name=map_name)\n",
    "    test.api_test(env)\n",
    "    # test.parallel_api_test(sc2_v0.parallel_env()) # does not pass it due to\n",
    "    # illegal actions test.seed_test(sc2.env, 50) # not required, sc2 env only\n",
    "    # allows reseeding at initialization\n",
    "    test.render_test(env)\n",
    "\n",
    "    recreated_env = pickle.loads(pickle.dumps(env))\n",
    "    test.api_test(recreated_env)\n",
    "\n",
    "test_env('3m')"
   ]
  },
  {
   "cell_type": "code",
   "execution_count": 12,
   "metadata": {},
   "outputs": [
    {
     "name": "stdout",
     "output_type": "stream",
     "text": [
      "Starting API test\n"
     ]
    },
    {
     "name": "stderr",
     "output_type": "stream",
     "text": [
      "d:\\softwares\\anaconda3\\envs\\myrl\\Lib\\site-packages\\pettingzoo\\utils\\conversions.py:252: UserWarning: The base environment `sc2` does not have a `render_mode` defined.\n",
      "  warnings.warn(\n"
     ]
    },
    {
     "ename": "TypeError",
     "evalue": "smac_parallel_env.reset() got an unexpected keyword argument 'seed'",
     "output_type": "error",
     "traceback": [
      "\u001b[1;31m---------------------------------------------------------------------------\u001b[0m",
      "\u001b[1;31mTypeError\u001b[0m                                 Traceback (most recent call last)",
      "Cell \u001b[1;32mIn[12], line 17\u001b[0m\n\u001b[0;32m     15\u001b[0m \u001b[38;5;28;01mif\u001b[39;00m \u001b[38;5;18m__name__\u001b[39m \u001b[38;5;241m==\u001b[39m \u001b[38;5;124m\"\u001b[39m\u001b[38;5;124m__main__\u001b[39m\u001b[38;5;124m\"\u001b[39m:\n\u001b[0;32m     16\u001b[0m     env \u001b[38;5;241m=\u001b[39m sc2\u001b[38;5;241m.\u001b[39menv(map_name\u001b[38;5;241m=\u001b[39m\u001b[38;5;124m\"\u001b[39m\u001b[38;5;124mcorridor\u001b[39m\u001b[38;5;124m\"\u001b[39m)\n\u001b[1;32m---> 17\u001b[0m     \u001b[43mtest\u001b[49m\u001b[38;5;241;43m.\u001b[39;49m\u001b[43mapi_test\u001b[49m\u001b[43m(\u001b[49m\u001b[43menv\u001b[49m\u001b[43m,\u001b[49m\u001b[38;5;241;43m50\u001b[39;49m\u001b[43m)\u001b[49m\n\u001b[0;32m     18\u001b[0m     \u001b[38;5;66;03m# test.parallel_api_test(sc2_v0.parallel_env()) # does not pass it due to\u001b[39;00m\n\u001b[0;32m     19\u001b[0m     \u001b[38;5;66;03m# illegal actions test.seed_test(sc2_v0.env, 50) # not required, sc2 env\u001b[39;00m\n\u001b[0;32m     20\u001b[0m     \u001b[38;5;66;03m# only allows reseeding at initialization\u001b[39;00m\n\u001b[0;32m     22\u001b[0m     recreated_env \u001b[38;5;241m=\u001b[39m pickle\u001b[38;5;241m.\u001b[39mloads(pickle\u001b[38;5;241m.\u001b[39mdumps(env))\n",
      "File \u001b[1;32md:\\softwares\\anaconda3\\envs\\myrl\\Lib\\site-packages\\pettingzoo\\test\\api_test.py:551\u001b[0m, in \u001b[0;36mapi_test\u001b[1;34m(env, num_cycles, verbose_progress)\u001b[0m\n\u001b[0;32m    548\u001b[0m     warnings\u001b[38;5;241m.\u001b[39mwarn(missing_attr_warning\u001b[38;5;241m.\u001b[39mformat(name\u001b[38;5;241m=\u001b[39m\u001b[38;5;124m\"\u001b[39m\u001b[38;5;124mpossible_agents\u001b[39m\u001b[38;5;124m\"\u001b[39m))\n\u001b[0;32m    550\u001b[0m \u001b[38;5;66;03m# checks that reset takes arguments called seed and options\u001b[39;00m\n\u001b[1;32m--> 551\u001b[0m \u001b[43menv\u001b[49m\u001b[38;5;241;43m.\u001b[39;49m\u001b[43mreset\u001b[49m\u001b[43m(\u001b[49m\u001b[43mseed\u001b[49m\u001b[38;5;241;43m=\u001b[39;49m\u001b[38;5;241;43m0\u001b[39;49m\u001b[43m,\u001b[49m\u001b[43m \u001b[49m\u001b[43moptions\u001b[49m\u001b[38;5;241;43m=\u001b[39;49m\u001b[43m{\u001b[49m\u001b[38;5;124;43m\"\u001b[39;49m\u001b[38;5;124;43moptions\u001b[39;49m\u001b[38;5;124;43m\"\u001b[39;49m\u001b[43m:\u001b[49m\u001b[43m \u001b[49m\u001b[38;5;241;43m1\u001b[39;49m\u001b[43m}\u001b[49m\u001b[43m)\u001b[49m\n\u001b[0;32m    553\u001b[0m \u001b[38;5;28;01massert\u001b[39;00m \u001b[38;5;28misinstance\u001b[39m(\n\u001b[0;32m    554\u001b[0m     env, pettingzoo\u001b[38;5;241m.\u001b[39mAECEnv\n\u001b[0;32m    555\u001b[0m ), \u001b[38;5;124m\"\u001b[39m\u001b[38;5;124mEnv must be an instance of pettingzoo.AECEnv\u001b[39m\u001b[38;5;124m\"\u001b[39m\n\u001b[0;32m    557\u001b[0m env\u001b[38;5;241m.\u001b[39mreset()\n",
      "File \u001b[1;32md:\\softwares\\anaconda3\\envs\\myrl\\Lib\\site-packages\\pettingzoo\\utils\\wrappers\\order_enforcing.py:118\u001b[0m, in \u001b[0;36mOrderEnforcingWrapper.reset\u001b[1;34m(self, seed, options)\u001b[0m\n\u001b[0;32m    116\u001b[0m \u001b[38;5;28mself\u001b[39m\u001b[38;5;241m.\u001b[39m_has_reset \u001b[38;5;241m=\u001b[39m \u001b[38;5;28;01mTrue\u001b[39;00m\n\u001b[0;32m    117\u001b[0m \u001b[38;5;28mself\u001b[39m\u001b[38;5;241m.\u001b[39m_has_updated \u001b[38;5;241m=\u001b[39m \u001b[38;5;28;01mTrue\u001b[39;00m\n\u001b[1;32m--> 118\u001b[0m \u001b[38;5;28;43msuper\u001b[39;49m\u001b[43m(\u001b[49m\u001b[43m)\u001b[49m\u001b[38;5;241;43m.\u001b[39;49m\u001b[43mreset\u001b[49m\u001b[43m(\u001b[49m\u001b[43mseed\u001b[49m\u001b[38;5;241;43m=\u001b[39;49m\u001b[43mseed\u001b[49m\u001b[43m,\u001b[49m\u001b[43m \u001b[49m\u001b[43moptions\u001b[49m\u001b[38;5;241;43m=\u001b[39;49m\u001b[43moptions\u001b[49m\u001b[43m)\u001b[49m\n",
      "File \u001b[1;32md:\\softwares\\anaconda3\\envs\\myrl\\Lib\\site-packages\\pettingzoo\\utils\\wrappers\\base.py:38\u001b[0m, in \u001b[0;36mBaseWrapper.reset\u001b[1;34m(self, seed, options)\u001b[0m\n\u001b[0;32m     37\u001b[0m \u001b[38;5;28;01mdef\u001b[39;00m \u001b[38;5;21mreset\u001b[39m(\u001b[38;5;28mself\u001b[39m, seed: \u001b[38;5;28mint\u001b[39m \u001b[38;5;241m|\u001b[39m \u001b[38;5;28;01mNone\u001b[39;00m \u001b[38;5;241m=\u001b[39m \u001b[38;5;28;01mNone\u001b[39;00m, options: \u001b[38;5;28mdict\u001b[39m \u001b[38;5;241m|\u001b[39m \u001b[38;5;28;01mNone\u001b[39;00m \u001b[38;5;241m=\u001b[39m \u001b[38;5;28;01mNone\u001b[39;00m):\n\u001b[1;32m---> 38\u001b[0m     \u001b[38;5;28;43mself\u001b[39;49m\u001b[38;5;241;43m.\u001b[39;49m\u001b[43menv\u001b[49m\u001b[38;5;241;43m.\u001b[39;49m\u001b[43mreset\u001b[49m\u001b[43m(\u001b[49m\u001b[43mseed\u001b[49m\u001b[38;5;241;43m=\u001b[39;49m\u001b[43mseed\u001b[49m\u001b[43m,\u001b[49m\u001b[43m \u001b[49m\u001b[43moptions\u001b[49m\u001b[38;5;241;43m=\u001b[39;49m\u001b[43moptions\u001b[49m\u001b[43m)\u001b[49m\n",
      "File \u001b[1;32md:\\softwares\\anaconda3\\envs\\myrl\\Lib\\site-packages\\pettingzoo\\utils\\wrappers\\base.py:38\u001b[0m, in \u001b[0;36mBaseWrapper.reset\u001b[1;34m(self, seed, options)\u001b[0m\n\u001b[0;32m     37\u001b[0m \u001b[38;5;28;01mdef\u001b[39;00m \u001b[38;5;21mreset\u001b[39m(\u001b[38;5;28mself\u001b[39m, seed: \u001b[38;5;28mint\u001b[39m \u001b[38;5;241m|\u001b[39m \u001b[38;5;28;01mNone\u001b[39;00m \u001b[38;5;241m=\u001b[39m \u001b[38;5;28;01mNone\u001b[39;00m, options: \u001b[38;5;28mdict\u001b[39m \u001b[38;5;241m|\u001b[39m \u001b[38;5;28;01mNone\u001b[39;00m \u001b[38;5;241m=\u001b[39m \u001b[38;5;28;01mNone\u001b[39;00m):\n\u001b[1;32m---> 38\u001b[0m     \u001b[38;5;28;43mself\u001b[39;49m\u001b[38;5;241;43m.\u001b[39;49m\u001b[43menv\u001b[49m\u001b[38;5;241;43m.\u001b[39;49m\u001b[43mreset\u001b[49m\u001b[43m(\u001b[49m\u001b[43mseed\u001b[49m\u001b[38;5;241;43m=\u001b[39;49m\u001b[43mseed\u001b[49m\u001b[43m,\u001b[49m\u001b[43m \u001b[49m\u001b[43moptions\u001b[49m\u001b[38;5;241;43m=\u001b[39;49m\u001b[43moptions\u001b[49m\u001b[43m)\u001b[49m\n",
      "File \u001b[1;32md:\\softwares\\anaconda3\\envs\\myrl\\Lib\\site-packages\\pettingzoo\\utils\\wrappers\\order_enforcing.py:118\u001b[0m, in \u001b[0;36mOrderEnforcingWrapper.reset\u001b[1;34m(self, seed, options)\u001b[0m\n\u001b[0;32m    116\u001b[0m \u001b[38;5;28mself\u001b[39m\u001b[38;5;241m.\u001b[39m_has_reset \u001b[38;5;241m=\u001b[39m \u001b[38;5;28;01mTrue\u001b[39;00m\n\u001b[0;32m    117\u001b[0m \u001b[38;5;28mself\u001b[39m\u001b[38;5;241m.\u001b[39m_has_updated \u001b[38;5;241m=\u001b[39m \u001b[38;5;28;01mTrue\u001b[39;00m\n\u001b[1;32m--> 118\u001b[0m \u001b[38;5;28;43msuper\u001b[39;49m\u001b[43m(\u001b[49m\u001b[43m)\u001b[49m\u001b[38;5;241;43m.\u001b[39;49m\u001b[43mreset\u001b[49m\u001b[43m(\u001b[49m\u001b[43mseed\u001b[49m\u001b[38;5;241;43m=\u001b[39;49m\u001b[43mseed\u001b[49m\u001b[43m,\u001b[49m\u001b[43m \u001b[49m\u001b[43moptions\u001b[49m\u001b[38;5;241;43m=\u001b[39;49m\u001b[43moptions\u001b[49m\u001b[43m)\u001b[49m\n",
      "File \u001b[1;32md:\\softwares\\anaconda3\\envs\\myrl\\Lib\\site-packages\\pettingzoo\\utils\\wrappers\\base.py:38\u001b[0m, in \u001b[0;36mBaseWrapper.reset\u001b[1;34m(self, seed, options)\u001b[0m\n\u001b[0;32m     37\u001b[0m \u001b[38;5;28;01mdef\u001b[39;00m \u001b[38;5;21mreset\u001b[39m(\u001b[38;5;28mself\u001b[39m, seed: \u001b[38;5;28mint\u001b[39m \u001b[38;5;241m|\u001b[39m \u001b[38;5;28;01mNone\u001b[39;00m \u001b[38;5;241m=\u001b[39m \u001b[38;5;28;01mNone\u001b[39;00m, options: \u001b[38;5;28mdict\u001b[39m \u001b[38;5;241m|\u001b[39m \u001b[38;5;28;01mNone\u001b[39;00m \u001b[38;5;241m=\u001b[39m \u001b[38;5;28;01mNone\u001b[39;00m):\n\u001b[1;32m---> 38\u001b[0m     \u001b[38;5;28;43mself\u001b[39;49m\u001b[38;5;241;43m.\u001b[39;49m\u001b[43menv\u001b[49m\u001b[38;5;241;43m.\u001b[39;49m\u001b[43mreset\u001b[49m\u001b[43m(\u001b[49m\u001b[43mseed\u001b[49m\u001b[38;5;241;43m=\u001b[39;49m\u001b[43mseed\u001b[49m\u001b[43m,\u001b[49m\u001b[43m \u001b[49m\u001b[43moptions\u001b[49m\u001b[38;5;241;43m=\u001b[39;49m\u001b[43moptions\u001b[49m\u001b[43m)\u001b[49m\n",
      "File \u001b[1;32md:\\softwares\\anaconda3\\envs\\myrl\\Lib\\site-packages\\pettingzoo\\utils\\conversions.py:306\u001b[0m, in \u001b[0;36mparallel_to_aec_wrapper.reset\u001b[1;34m(self, seed, options)\u001b[0m\n\u001b[0;32m    305\u001b[0m \u001b[38;5;28;01mdef\u001b[39;00m \u001b[38;5;21mreset\u001b[39m(\u001b[38;5;28mself\u001b[39m, seed\u001b[38;5;241m=\u001b[39m\u001b[38;5;28;01mNone\u001b[39;00m, options\u001b[38;5;241m=\u001b[39m\u001b[38;5;28;01mNone\u001b[39;00m):\n\u001b[1;32m--> 306\u001b[0m     \u001b[38;5;28mself\u001b[39m\u001b[38;5;241m.\u001b[39m_observations, \u001b[38;5;28mself\u001b[39m\u001b[38;5;241m.\u001b[39minfos \u001b[38;5;241m=\u001b[39m \u001b[38;5;28;43mself\u001b[39;49m\u001b[38;5;241;43m.\u001b[39;49m\u001b[43menv\u001b[49m\u001b[38;5;241;43m.\u001b[39;49m\u001b[43mreset\u001b[49m\u001b[43m(\u001b[49m\u001b[43mseed\u001b[49m\u001b[38;5;241;43m=\u001b[39;49m\u001b[43mseed\u001b[49m\u001b[43m,\u001b[49m\u001b[43m \u001b[49m\u001b[43moptions\u001b[49m\u001b[38;5;241;43m=\u001b[39;49m\u001b[43moptions\u001b[49m\u001b[43m)\u001b[49m\n\u001b[0;32m    307\u001b[0m     \u001b[38;5;28mself\u001b[39m\u001b[38;5;241m.\u001b[39magents \u001b[38;5;241m=\u001b[39m \u001b[38;5;28mself\u001b[39m\u001b[38;5;241m.\u001b[39menv\u001b[38;5;241m.\u001b[39magents[:]\n\u001b[0;32m    308\u001b[0m     \u001b[38;5;28mself\u001b[39m\u001b[38;5;241m.\u001b[39m_live_agents \u001b[38;5;241m=\u001b[39m \u001b[38;5;28mself\u001b[39m\u001b[38;5;241m.\u001b[39magents[:]\n",
      "\u001b[1;31mTypeError\u001b[0m: smac_parallel_env.reset() got an unexpected keyword argument 'seed'"
     ]
    }
   ],
   "source": [
    "import os\n",
    "import sys\n",
    "import inspect\n",
    "from pettingzoo import test\n",
    "from smacv2.env.pettingzoo import StarCraft2PZEnv as sc2\n",
    "import pickle\n",
    "\n",
    "current_dir = os.path.dirname(\n",
    "    os.path.abspath(inspect.getfile(inspect.currentframe()))\n",
    ")\n",
    "parent_dir = os.path.dirname(current_dir)\n",
    "sys.path.insert(0, parent_dir)\n",
    "\n",
    "\n",
    "if __name__ == \"__main__\":\n",
    "    env = sc2.env(map_name=\"corridor\")\n",
    "    test.api_test(env)\n",
    "    # test.parallel_api_test(sc2_v0.parallel_env()) # does not pass it due to\n",
    "    # illegal actions test.seed_test(sc2_v0.env, 50) # not required, sc2 env\n",
    "    # only allows reseeding at initialization\n",
    "\n",
    "    recreated_env = pickle.loads(pickle.dumps(env))\n",
    "    test.api_test(recreated_env)"
   ]
  },
  {
   "cell_type": "code",
   "execution_count": 8,
   "metadata": {},
   "outputs": [
    {
     "name": "stdout",
     "output_type": "stream",
     "text": [
      "An error occurred: 'parallel_to_aec_wrapper' object has no attribute 'seed'\n"
     ]
    }
   ],
   "source": [
    "import pytest\n",
    "import pickle\n",
    "from smacv2.env.starcraft2.maps import smac_maps\n",
    "from pysc2 import maps as pysc2_maps\n",
    "from smacv2.env.pettingzoo import StarCraft2PZEnv as sc2\n",
    "from pettingzoo import test\n",
    "from pettingzoo.utils import wrappers\n",
    "\n",
    "def create_env(map_name, seed=None):\n",
    "    env = sc2.env(map_name=map_name)\n",
    "    if seed is not None:\n",
    "        env.seed(seed)\n",
    "    return env\n",
    "\n",
    "def test_env(map_name):\n",
    "    env = create_env(map_name, seed=50)\n",
    "    env = wrappers.TerminateIllegalWrapper(env, illegal_reward=-1)\n",
    "    env = wrappers.AssertOutOfBoundsWrapper(env)\n",
    "\n",
    "    test.api_test(env)\n",
    "\n",
    "    recreated_env = pickle.loads(pickle.dumps(env))\n",
    "    test.api_test(recreated_env)\n",
    "\n",
    "if __name__ == \"__main__\":\n",
    "    try:\n",
    "        env = create_env(\"corridor\", seed=50)\n",
    "        test.api_test(env)\n",
    "        recreated_env = pickle.loads(pickle.dumps(env))\n",
    "        test.api_test(recreated_env)\n",
    "    except Exception as e:\n",
    "        print(f\"An error occurred: {e}\")\n"
   ]
  },
  {
   "cell_type": "code",
   "execution_count": 1,
   "metadata": {},
   "outputs": [
    {
     "ename": "UnboundLocalError",
     "evalue": "cannot access local variable 'agent_type' where it is not associated with a value",
     "output_type": "error",
     "traceback": [
      "\u001b[1;31m---------------------------------------------------------------------------\u001b[0m",
      "\u001b[1;31mUnboundLocalError\u001b[0m                         Traceback (most recent call last)",
      "Cell \u001b[1;32mIn[1], line 44\u001b[0m\n\u001b[0;32m     40\u001b[0m     \u001b[38;5;28mprint\u001b[39m(\u001b[38;5;124m\"\u001b[39m\u001b[38;5;124mAverage total reward\u001b[39m\u001b[38;5;124m\"\u001b[39m, total_reward \u001b[38;5;241m/\u001b[39m episodes)\n\u001b[0;32m     43\u001b[0m \u001b[38;5;28;01mif\u001b[39;00m \u001b[38;5;18m__name__\u001b[39m \u001b[38;5;241m==\u001b[39m \u001b[38;5;124m\"\u001b[39m\u001b[38;5;124m__main__\u001b[39m\u001b[38;5;124m\"\u001b[39m:\n\u001b[1;32m---> 44\u001b[0m     \u001b[43mmain\u001b[49m\u001b[43m(\u001b[49m\u001b[43m)\u001b[49m\n",
      "Cell \u001b[1;32mIn[1], line 14\u001b[0m, in \u001b[0;36mmain\u001b[1;34m()\u001b[0m\n\u001b[0;32m     10\u001b[0m \u001b[38;5;28;01mdef\u001b[39;00m \u001b[38;5;21mmain\u001b[39m():\n\u001b[0;32m     11\u001b[0m \u001b[38;5;250m    \u001b[39m\u001b[38;5;124;03m\"\"\"\u001b[39;00m\n\u001b[0;32m     12\u001b[0m \u001b[38;5;124;03m    Runs an env object with random actions.\u001b[39;00m\n\u001b[0;32m     13\u001b[0m \u001b[38;5;124;03m    \"\"\"\u001b[39;00m\n\u001b[1;32m---> 14\u001b[0m     env \u001b[38;5;241m=\u001b[39m \u001b[43mStarCraft2PZEnv\u001b[49m\u001b[38;5;241;43m.\u001b[39;49m\u001b[43menv\u001b[49m\u001b[43m(\u001b[49m\u001b[43m)\u001b[49m\n\u001b[0;32m     15\u001b[0m     episodes \u001b[38;5;241m=\u001b[39m \u001b[38;5;241m10\u001b[39m\n\u001b[0;32m     17\u001b[0m     total_reward \u001b[38;5;241m=\u001b[39m \u001b[38;5;241m0\u001b[39m\n",
      "File \u001b[1;32md:\\softwares\\anaconda3\\envs\\myrl\\Lib\\site-packages\\smacv2\\env\\pettingzoo\\StarCraft2PZEnv.py:26\u001b[0m, in \u001b[0;36mmake_env.<locals>.env_fn\u001b[1;34m(**kwargs)\u001b[0m\n\u001b[0;32m     25\u001b[0m \u001b[38;5;28;01mdef\u001b[39;00m \u001b[38;5;21menv_fn\u001b[39m(\u001b[38;5;241m*\u001b[39m\u001b[38;5;241m*\u001b[39mkwargs):\n\u001b[1;32m---> 26\u001b[0m     env \u001b[38;5;241m=\u001b[39m \u001b[43mraw_env\u001b[49m\u001b[43m(\u001b[49m\u001b[38;5;241;43m*\u001b[39;49m\u001b[38;5;241;43m*\u001b[39;49m\u001b[43mkwargs\u001b[49m\u001b[43m)\u001b[49m\n\u001b[0;32m     27\u001b[0m     \u001b[38;5;66;03m# env = wrappers.TerminateIllegalWrapper(env, illegal_reward=-1)\u001b[39;00m\n\u001b[0;32m     28\u001b[0m     env \u001b[38;5;241m=\u001b[39m wrappers\u001b[38;5;241m.\u001b[39mAssertOutOfBoundsWrapper(env)\n",
      "File \u001b[1;32md:\\softwares\\anaconda3\\envs\\myrl\\Lib\\site-packages\\smacv2\\env\\pettingzoo\\StarCraft2PZEnv.py:21\u001b[0m, in \u001b[0;36mraw_env\u001b[1;34m(max_cycles, **smac_args)\u001b[0m\n\u001b[0;32m     20\u001b[0m \u001b[38;5;28;01mdef\u001b[39;00m \u001b[38;5;21mraw_env\u001b[39m(max_cycles\u001b[38;5;241m=\u001b[39mmax_cycles_default, \u001b[38;5;241m*\u001b[39m\u001b[38;5;241m*\u001b[39msmac_args):\n\u001b[1;32m---> 21\u001b[0m     \u001b[38;5;28;01mreturn\u001b[39;00m from_parallel(\u001b[43mparallel_env\u001b[49m\u001b[43m(\u001b[49m\u001b[43mmax_cycles\u001b[49m\u001b[43m,\u001b[49m\u001b[43m \u001b[49m\u001b[38;5;241;43m*\u001b[39;49m\u001b[38;5;241;43m*\u001b[39;49m\u001b[43msmac_args\u001b[49m\u001b[43m)\u001b[49m)\n",
      "File \u001b[1;32md:\\softwares\\anaconda3\\envs\\myrl\\Lib\\site-packages\\smacv2\\env\\pettingzoo\\StarCraft2PZEnv.py:17\u001b[0m, in \u001b[0;36mparallel_env\u001b[1;34m(max_cycles, **smac_args)\u001b[0m\n\u001b[0;32m     16\u001b[0m \u001b[38;5;28;01mdef\u001b[39;00m \u001b[38;5;21mparallel_env\u001b[39m(max_cycles\u001b[38;5;241m=\u001b[39mmax_cycles_default, \u001b[38;5;241m*\u001b[39m\u001b[38;5;241m*\u001b[39msmac_args):\n\u001b[1;32m---> 17\u001b[0m     \u001b[38;5;28;01mreturn\u001b[39;00m \u001b[43m_parallel_env\u001b[49m\u001b[43m(\u001b[49m\u001b[43mmax_cycles\u001b[49m\u001b[43m,\u001b[49m\u001b[43m \u001b[49m\u001b[38;5;241;43m*\u001b[39;49m\u001b[38;5;241;43m*\u001b[39;49m\u001b[43msmac_args\u001b[49m\u001b[43m)\u001b[49m\n",
      "File \u001b[1;32md:\\softwares\\anaconda3\\envs\\myrl\\Lib\\site-packages\\smacv2\\env\\pettingzoo\\StarCraft2PZEnv.py:200\u001b[0m, in \u001b[0;36m_parallel_env.__init__\u001b[1;34m(self, max_cycles, **smac_args)\u001b[0m\n\u001b[0;32m    198\u001b[0m EzPickle\u001b[38;5;241m.\u001b[39m\u001b[38;5;21m__init__\u001b[39m(\u001b[38;5;28mself\u001b[39m, max_cycles, \u001b[38;5;241m*\u001b[39m\u001b[38;5;241m*\u001b[39msmac_args)\n\u001b[0;32m    199\u001b[0m env \u001b[38;5;241m=\u001b[39m StarCraft2Env(\u001b[38;5;241m*\u001b[39m\u001b[38;5;241m*\u001b[39msmac_args)\n\u001b[1;32m--> 200\u001b[0m \u001b[38;5;28;43msuper\u001b[39;49m\u001b[43m(\u001b[49m\u001b[43m)\u001b[49m\u001b[38;5;241;43m.\u001b[39;49m\u001b[38;5;21;43m__init__\u001b[39;49m\u001b[43m(\u001b[49m\u001b[43menv\u001b[49m\u001b[43m,\u001b[49m\u001b[43m \u001b[49m\u001b[43mmax_cycles\u001b[49m\u001b[43m)\u001b[49m\n",
      "File \u001b[1;32md:\\softwares\\anaconda3\\envs\\myrl\\Lib\\site-packages\\smacv2\\env\\pettingzoo\\StarCraft2PZEnv.py:41\u001b[0m, in \u001b[0;36msmac_parallel_env.__init__\u001b[1;34m(self, env, max_cycles)\u001b[0m\n\u001b[0;32m     39\u001b[0m \u001b[38;5;28mself\u001b[39m\u001b[38;5;241m.\u001b[39menv\u001b[38;5;241m.\u001b[39mreset()\n\u001b[0;32m     40\u001b[0m \u001b[38;5;28mself\u001b[39m\u001b[38;5;241m.\u001b[39mreset_flag \u001b[38;5;241m=\u001b[39m \u001b[38;5;241m0\u001b[39m\n\u001b[1;32m---> 41\u001b[0m \u001b[38;5;28mself\u001b[39m\u001b[38;5;241m.\u001b[39magents, \u001b[38;5;28mself\u001b[39m\u001b[38;5;241m.\u001b[39maction_spaces \u001b[38;5;241m=\u001b[39m \u001b[38;5;28;43mself\u001b[39;49m\u001b[38;5;241;43m.\u001b[39;49m\u001b[43m_init_agents\u001b[49m\u001b[43m(\u001b[49m\u001b[43m)\u001b[49m\n\u001b[0;32m     42\u001b[0m \u001b[38;5;28mself\u001b[39m\u001b[38;5;241m.\u001b[39mpossible_agents \u001b[38;5;241m=\u001b[39m \u001b[38;5;28mself\u001b[39m\u001b[38;5;241m.\u001b[39magents[:]\n\u001b[0;32m     44\u001b[0m observation_size \u001b[38;5;241m=\u001b[39m env\u001b[38;5;241m.\u001b[39mget_obs_size()\n",
      "File \u001b[1;32md:\\softwares\\anaconda3\\envs\\myrl\\Lib\\site-packages\\smacv2\\env\\pettingzoo\\StarCraft2PZEnv.py:95\u001b[0m, in \u001b[0;36msmac_parallel_env._init_agents\u001b[1;34m(self)\u001b[0m\n\u001b[0;32m     93\u001b[0m     agent_type \u001b[38;5;241m=\u001b[39m \u001b[38;5;124m\"\u001b[39m\u001b[38;5;124mzealot\u001b[39m\u001b[38;5;124m\"\u001b[39m\n\u001b[0;32m     94\u001b[0m \u001b[38;5;28;01melse\u001b[39;00m:\n\u001b[1;32m---> 95\u001b[0m     \u001b[38;5;28;01mraise\u001b[39;00m \u001b[38;5;167;01mAssertionError\u001b[39;00m(\u001b[38;5;124mf\u001b[39m\u001b[38;5;124m\"\u001b[39m\u001b[38;5;124magent type \u001b[39m\u001b[38;5;132;01m{\u001b[39;00m\u001b[43magent_type\u001b[49m\u001b[38;5;132;01m}\u001b[39;00m\u001b[38;5;124m not supported\u001b[39m\u001b[38;5;124m\"\u001b[39m)\n\u001b[0;32m     97\u001b[0m \u001b[38;5;28;01mif\u001b[39;00m agent_type \u001b[38;5;241m==\u001b[39m last_type:\n\u001b[0;32m     98\u001b[0m     i \u001b[38;5;241m+\u001b[39m\u001b[38;5;241m=\u001b[39m \u001b[38;5;241m1\u001b[39m\n",
      "\u001b[1;31mUnboundLocalError\u001b[0m: cannot access local variable 'agent_type' where it is not associated with a value"
     ]
    }
   ],
   "source": [
    "\n",
    "from __future__ import absolute_import\n",
    "from __future__ import division\n",
    "from __future__ import print_function\n",
    "\n",
    "import random\n",
    "import numpy as np\n",
    "from smacv2.env.pettingzoo import StarCraft2PZEnv\n",
    "\n",
    "\n",
    "def main():\n",
    "    \"\"\"\n",
    "    Runs an env object with random actions.\n",
    "    \"\"\"\n",
    "    env = StarCraft2PZEnv.env()\n",
    "    episodes = 10\n",
    "\n",
    "    total_reward = 0\n",
    "    done = False\n",
    "    completed_episodes = 0\n",
    "\n",
    "    while completed_episodes < episodes:\n",
    "        env.reset()\n",
    "        for agent in env.agent_iter():\n",
    "            env.render()\n",
    "\n",
    "            obs, reward, done, _ = env.last()\n",
    "            total_reward += reward\n",
    "            if done:\n",
    "                action = None\n",
    "            elif isinstance(obs, dict) and \"action_mask\" in obs:\n",
    "                action = random.choice(np.flatnonzero(obs[\"action_mask\"]))\n",
    "            else:\n",
    "                action = env.action_spaces[agent].sample()\n",
    "            env.step(action)\n",
    "\n",
    "        completed_episodes += 1\n",
    "\n",
    "    env.close()\n",
    "\n",
    "    print(\"Average total reward\", total_reward / episodes)\n",
    "\n",
    "\n",
    "if __name__ == \"__main__\":\n",
    "    main()"
   ]
  },
  {
   "cell_type": "code",
   "execution_count": 3,
   "metadata": {},
   "outputs": [
    {
     "ename": "TypeError",
     "evalue": "unsupported operand type(s) for -: 'list' and 'list'",
     "output_type": "error",
     "traceback": [
      "\u001b[1;31m---------------------------------------------------------------------------\u001b[0m",
      "\u001b[1;31mTypeError\u001b[0m                                 Traceback (most recent call last)",
      "Cell \u001b[1;32mIn[3], line 10\u001b[0m\n\u001b[0;32m      7\u001b[0m enemy_pos \u001b[38;5;241m=\u001b[39m [\u001b[38;5;241m4.0\u001b[39m, \u001b[38;5;241m6.0\u001b[39m]\n\u001b[0;32m      9\u001b[0m \u001b[38;5;66;03m# 计算欧几里得距离\u001b[39;00m\n\u001b[1;32m---> 10\u001b[0m distance \u001b[38;5;241m=\u001b[39m np\u001b[38;5;241m.\u001b[39mlinalg\u001b[38;5;241m.\u001b[39mnorm(\u001b[43magent_pos\u001b[49m\u001b[43m \u001b[49m\u001b[38;5;241;43m-\u001b[39;49m\u001b[43m \u001b[49m\u001b[43menemy_pos\u001b[49m)\n\u001b[0;32m     12\u001b[0m \u001b[38;5;28mprint\u001b[39m(\u001b[38;5;124m\"\u001b[39m\u001b[38;5;124m欧几里得距离:\u001b[39m\u001b[38;5;124m\"\u001b[39m, distance)\n",
      "\u001b[1;31mTypeError\u001b[0m: unsupported operand type(s) for -: 'list' and 'list'"
     ]
    }
   ],
   "source": [
    "import numpy as np\n",
    "\n",
    "# 智能体位置\n",
    "agent_pos = np.array([1.0, 2.0])\n",
    "\n",
    "# 敌人位置\n",
    "enemy_pos = np.array([4.0, 6.0])\n",
    "\n",
    "# 计算欧几里得距离\n",
    "distance = np.linalg.norm(agent_pos - enemy_pos)\n",
    "\n",
    "print(\"欧几里得距离:\", distance)\n"
   ]
  }
 ],
 "metadata": {
  "kernelspec": {
   "display_name": "myrl",
   "language": "python",
   "name": "python3"
  },
  "language_info": {
   "codemirror_mode": {
    "name": "ipython",
    "version": 3
   },
   "file_extension": ".py",
   "mimetype": "text/x-python",
   "name": "python",
   "nbconvert_exporter": "python",
   "pygments_lexer": "ipython3",
   "version": "3.11.5"
  }
 },
 "nbformat": 4,
 "nbformat_minor": 2
}
